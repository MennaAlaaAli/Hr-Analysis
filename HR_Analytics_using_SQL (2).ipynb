{
  "nbformat": 4,
  "nbformat_minor": 0,
  "metadata": {
    "colab": {
      "provenance": []
    },
    "kernelspec": {
      "name": "python3",
      "display_name": "Python 3"
    },
    "language_info": {
      "name": "python"
    }
  },
  "cells": [
    {
      "cell_type": "code",
      "execution_count": 7,
      "metadata": {
        "id": "yG5bO8crZLM7"
      },
      "outputs": [],
      "source": [
        "import sqlite3\n",
        "import pandas as pd"
      ]
    },
    {
      "cell_type": "code",
      "source": [
        "csv_file_path = '/content/HR_Data.csv'\n",
        "db_path = '/content/hr_data.db'"
      ],
      "metadata": {
        "id": "g_DpW5c0aEfI"
      },
      "execution_count": 8,
      "outputs": []
    },
    {
      "cell_type": "code",
      "source": [
        "hr_data = pd.read_csv(csv_file_path)"
      ],
      "metadata": {
        "id": "SlVFo5n5aSz7"
      },
      "execution_count": 9,
      "outputs": []
    },
    {
      "cell_type": "code",
      "source": [
        "conn = sqlite3.connect(db_path)"
      ],
      "metadata": {
        "id": "WAJA2uJHb5XT"
      },
      "execution_count": 10,
      "outputs": []
    },
    {
      "cell_type": "code",
      "source": [
        "hr_data.to_sql('HRData', conn, if_exists='replace', index=False)"
      ],
      "metadata": {
        "colab": {
          "base_uri": "https://localhost:8080/"
        },
        "id": "l-pZfq10af9x",
        "outputId": "75a6e528-4204-41b9-f1a1-2418d40d3b14"
      },
      "execution_count": 11,
      "outputs": [
        {
          "output_type": "execute_result",
          "data": {
            "text/plain": [
              "1470"
            ]
          },
          "metadata": {},
          "execution_count": 11
        }
      ]
    },
    {
      "cell_type": "markdown",
      "source": [
        "# **How many employees are there in total, and how many of them have left the company (attrition)?**\n"
      ],
      "metadata": {
        "id": "AN183mMGa7D-"
      }
    },
    {
      "cell_type": "code",
      "source": [
        "query_employee_count_by_attrition = \"\"\"\n",
        "SELECT Attrition, COUNT(*) AS EmployeeCount\n",
        "FROM HRData\n",
        "GROUP BY Attrition;\n",
        "\"\"\"\n",
        "# Execute the SQL query and fetch the result into a DataFrame\n",
        "df = pd.read_sql_query(query_employee_count_by_attrition, conn)\n",
        "\n",
        "# Display the results\n",
        "print(df)\n"
      ],
      "metadata": {
        "colab": {
          "base_uri": "https://localhost:8080/"
        },
        "id": "eukHrgCcdMnX",
        "outputId": "28f82fb4-32a1-4e6c-d9f1-a893a32a4dd4"
      },
      "execution_count": 18,
      "outputs": [
        {
          "output_type": "stream",
          "name": "stdout",
          "text": [
            "  Attrition  EmployeeCount\n",
            "0        No           1233\n",
            "1       Yes            237\n"
          ]
        }
      ]
    },
    {
      "cell_type": "markdown",
      "source": [
        "The total number of employees in the company is 1,470. Out of these, 237 employees have left the company, indicating an attrition rate of approximately 16.1%."
      ],
      "metadata": {
        "id": "p4BFzv8Vsgfb"
      }
    },
    {
      "cell_type": "markdown",
      "source": [
        "# **What is the average age of employees in each department**\n"
      ],
      "metadata": {
        "id": "JJedAW8TgVuH"
      }
    },
    {
      "cell_type": "code",
      "source": [
        "query_average_age_by_department = \"\"\"\n",
        "SELECT Department, AVG(Age) AS AverageAge\n",
        "FROM HRData\n",
        "GROUP BY Department;\n",
        "\"\"\"\n",
        "\n",
        "# Execute the SQL query and fetch the result into a DataFrame\n",
        "df = pd.read_sql_query(query_average_age_by_department, conn)\n",
        "\n",
        "# Display the results\n",
        "print(df)\n"
      ],
      "metadata": {
        "colab": {
          "base_uri": "https://localhost:8080/"
        },
        "id": "n6Rxk4IvgA05",
        "outputId": "91e0b4d5-46b9-48ad-9b84-8cd435b1279a"
      },
      "execution_count": 19,
      "outputs": [
        {
          "output_type": "stream",
          "name": "stdout",
          "text": [
            "               Department  AverageAge\n",
            "0         Human Resources   37.809524\n",
            "1  Research & Development   37.042664\n",
            "2                   Sales   36.542601\n"
          ]
        }
      ]
    },
    {
      "cell_type": "markdown",
      "source": [
        "The average age of employees varies slightly by department:\n",
        "\n",
        "*   Human Resources: 37.8 years\n",
        "*   Research & Development: 37.0 years\n",
        "*   Sales: 36.5 years\n",
        "\n",
        "Overall, the average age is fairly consistent across departments, with Human Resources having the highest average age and Sales the lowest."
      ],
      "metadata": {
        "id": "tBZNtn2qsuBk"
      }
    },
    {
      "cell_type": "markdown",
      "source": [
        "#**What is the total monthly income generated by employees in each job role?**"
      ],
      "metadata": {
        "id": "dUuFCG3Un9lV"
      }
    },
    {
      "cell_type": "code",
      "source": [
        "query_total_monthly_income = \"\"\"\n",
        "        SELECT JobRole, SUM(MonthlyIncome) AS TotalMonthlyIncome\n",
        "        FROM HRData\n",
        "        GROUP BY JobRole;\n",
        "\"\"\"\n",
        "\n",
        "# Execute the SQL query and fetch the result into a DataFrame\n",
        "df = pd.read_sql_query(query_total_monthly_income, conn)\n",
        "\n",
        "# Display the results\n",
        "print(df)"
      ],
      "metadata": {
        "colab": {
          "base_uri": "https://localhost:8080/"
        },
        "id": "5RC0_GNbgaps",
        "outputId": "355a949a-ba32-475b-dda5-6b3cc1977bf3"
      },
      "execution_count": 20,
      "outputs": [
        {
          "output_type": "stream",
          "name": "stdout",
          "text": [
            "                     JobRole  TotalMonthlyIncome\n",
            "0  Healthcare Representative              986268\n",
            "1            Human Resources              220259\n",
            "2      Laboratory Technician              838427\n",
            "3                    Manager             1752531\n",
            "4     Manufacturing Director             1057795\n",
            "5          Research Director             1282684\n",
            "6         Research Scientist              946072\n",
            "7            Sales Executive             2257315\n",
            "8       Sales Representative              217958\n"
          ]
        }
      ]
    },
    {
      "cell_type": "markdown",
      "source": [
        "The total monthly income generated by employees varies significantly by job role: Sales Executive roles contribute the highest to total monthly income, while Human Resources and Sales Representative roles contribute the least."
      ],
      "metadata": {
        "id": "xFHs92uwtL3d"
      }
    },
    {
      "cell_type": "markdown",
      "source": [
        "# **How many employees who work overtime are satisfied with their jobs?**"
      ],
      "metadata": {
        "id": "mzabB7_DoJ0q"
      }
    },
    {
      "cell_type": "code",
      "source": [
        "query_overTime_job_satisfaction = \"\"\"\n",
        "        SELECT JobSatisfaction, COUNT(*) AS EmployeeCount\n",
        "        FROM HRData\n",
        "        WHERE OverTime = 'Yes'\n",
        "        GROUP BY JobSatisfaction;\n",
        "\"\"\"\n",
        "\n",
        "# Execute the SQL query and fetch the result into a DataFrame\n",
        "df = pd.read_sql_query(query_overTime_job_satisfaction, conn)\n",
        "\n",
        "# Display the results\n",
        "print(df)"
      ],
      "metadata": {
        "colab": {
          "base_uri": "https://localhost:8080/"
        },
        "id": "84q-iMvvhXtr",
        "outputId": "a570d916-f440-41ff-88fc-3c7b5b484180"
      },
      "execution_count": 23,
      "outputs": [
        {
          "output_type": "stream",
          "name": "stdout",
          "text": [
            "   JobSatisfaction  EmployeeCount\n",
            "0                1             84\n",
            "1                2             69\n",
            "2                3            121\n",
            "3                4            142\n"
          ]
        }
      ]
    },
    {
      "cell_type": "markdown",
      "source": [
        "Among employees who work overtime, job satisfaction levels are distributed as follows:\n",
        "\n",
        "\n",
        "\n",
        "*   Satisfaction Level 1: 84 employees\n",
        "*   Satisfaction Level 2: 69 employees\n",
        "\n",
        "*   Satisfaction Level 3: 121 employees\n",
        "*   Satisfaction Level 4: 142 employees\n",
        "\n",
        "This indicates a range of satisfaction levels among those who work overtime, with the highest number of employees reporting the highest satisfaction level (4), and the lowest number reporting the lowest satisfaction level (1)."
      ],
      "metadata": {
        "id": "f6FMJbQqtcFS"
      }
    },
    {
      "cell_type": "markdown",
      "source": [
        "# **What is the average daily rate for male and female employees?**"
      ],
      "metadata": {
        "id": "pdDhNKVEoP6G"
      }
    },
    {
      "cell_type": "code",
      "source": [
        "query_avg_daily_rate_gender  = \"\"\"\n",
        "        SELECT Gender, AVG(DailyRate) AS AverageDailyRate\n",
        "        FROM HRData\n",
        "        GROUP BY Gender;\n",
        "\"\"\"\n",
        "\n",
        "# Execute the SQL query and fetch the result into a DataFrame\n",
        "df = pd.read_sql_query(query_avg_daily_rate_gender, conn)\n",
        "\n",
        "# Display the results\n",
        "print(df)"
      ],
      "metadata": {
        "colab": {
          "base_uri": "https://localhost:8080/"
        },
        "id": "SrGPzyOEiDPa",
        "outputId": "82d197ae-9588-4013-c45b-24ed0d99aeaf"
      },
      "execution_count": 24,
      "outputs": [
        {
          "output_type": "stream",
          "name": "stdout",
          "text": [
            "   Gender  AverageDailyRate\n",
            "0  Female        808.273810\n",
            "1    Male        798.626984\n"
          ]
        }
      ]
    },
    {
      "cell_type": "markdown",
      "source": [
        "This shows that, on average, female employees have a slightly higher daily rate compared to their male counterparts."
      ],
      "metadata": {
        "id": "wfuxw0uLuGAD"
      }
    },
    {
      "cell_type": "markdown",
      "source": [
        "# **Who are the top 10 employees with the highest monthly income?**"
      ],
      "metadata": {
        "id": "xe-aigqIoffn"
      }
    },
    {
      "cell_type": "code",
      "source": [
        "query_top10_highest_income = \"\"\"\n",
        "SELECT *\n",
        "FROM HRData\n",
        "ORDER BY MonthlyIncome DESC\n",
        "LIMIT 10;\n",
        "\"\"\"\n",
        "\n",
        "# Execute the SQL query and fetch the result into a DataFrame\n",
        "df = pd.read_sql_query(query_top10_highest_income, conn)\n",
        "\n",
        "# Display the results\n",
        "print(df)"
      ],
      "metadata": {
        "colab": {
          "base_uri": "https://localhost:8080/"
        },
        "id": "Z4B209cxjFKG",
        "outputId": "9306bc87-0983-40ef-bc43-5f04a526c7ac"
      },
      "execution_count": 25,
      "outputs": [
        {
          "output_type": "stream",
          "name": "stdout",
          "text": [
            "   Age Attrition     BusinessTravel  DailyRate              Department  \\\n",
            "0   52        No      Travel_Rarely        699  Research & Development   \n",
            "1   41        No         Non-Travel        247  Research & Development   \n",
            "2   56        No      Travel_Rarely        718  Research & Development   \n",
            "3   50        No      Travel_Rarely       1452  Research & Development   \n",
            "4   55       Yes      Travel_Rarely        725  Research & Development   \n",
            "5   51        No  Travel_Frequently        237                   Sales   \n",
            "6   52       Yes      Travel_Rarely        266                   Sales   \n",
            "7   40        No      Travel_Rarely        611                   Sales   \n",
            "8   43        No      Travel_Rarely        920  Research & Development   \n",
            "9   56        No      Travel_Rarely        206         Human Resources   \n",
            "\n",
            "   DistanceFromHome  Education    EducationField  EmployeeCount  \\\n",
            "0                 1          4     Life Sciences              1   \n",
            "1                 7          1     Life Sciences              1   \n",
            "2                 4          4  Technical Degree              1   \n",
            "3                11          3     Life Sciences              1   \n",
            "4                 2          3           Medical              1   \n",
            "5                 9          3     Life Sciences              1   \n",
            "6                 2          1         Marketing              1   \n",
            "7                 7          4           Medical              1   \n",
            "8                 3          3     Life Sciences              1   \n",
            "9                 8          4     Life Sciences              1   \n",
            "\n",
            "   EmployeeNumber  ...  RelationshipSatisfaction StandardHours  \\\n",
            "0             259  ...                         1            80   \n",
            "1            1035  ...                         2            80   \n",
            "2            1191  ...                         4            80   \n",
            "3             226  ...                         2            80   \n",
            "4             787  ...                         4            80   \n",
            "5            1282  ...                         1            80   \n",
            "6            1038  ...                         4            80   \n",
            "7            1740  ...                         2            80   \n",
            "8            1255  ...                         2            80   \n",
            "9            1338  ...                         1            80   \n",
            "\n",
            "   StockOptionLevel  TotalWorkingYears  TrainingTimesLastYear WorkLifeBalance  \\\n",
            "0                 1                 34                      5               3   \n",
            "1                 2                 21                      3               3   \n",
            "2                 1                 28                      2               3   \n",
            "3                 0                 21                      5               3   \n",
            "4                 1                 24                      2               3   \n",
            "5                 1                 31                      5               2   \n",
            "6                 1                 33                      3               3   \n",
            "7                 0                 21                      3               2   \n",
            "8                 1                 25                      2               3   \n",
            "9                 0                 36                      4               3   \n",
            "\n",
            "   YearsAtCompany YearsInCurrentRole  YearsSinceLastPromotion  \\\n",
            "0              33                 18                       11   \n",
            "1              21                 16                        5   \n",
            "2               5                  2                        4   \n",
            "3               5                  4                        4   \n",
            "4               5                  2                        1   \n",
            "5              29                 10                       11   \n",
            "6              32                 14                        6   \n",
            "7              21                  8                       12   \n",
            "8               8                  7                        0   \n",
            "9               7                  3                        7   \n",
            "\n",
            "   YearsWithCurrManager  \n",
            "0                     9  \n",
            "1                    10  \n",
            "2                     2  \n",
            "3                     4  \n",
            "4                     4  \n",
            "5                    10  \n",
            "6                     9  \n",
            "7                     8  \n",
            "8                     7  \n",
            "9                     7  \n",
            "\n",
            "[10 rows x 35 columns]\n"
          ]
        }
      ]
    },
    {
      "cell_type": "markdown",
      "source": [
        "The top 10 employees with the highest monthly income include a variety of job roles and departments. The highest earners are distributed among the Research & Development department, Sales, and Human Resources. Notably, these top earners vary in age, distance from home, and other attributes, reflecting diverse profiles among the highest income earners."
      ],
      "metadata": {
        "id": "EivDlN63ub-Y"
      }
    },
    {
      "cell_type": "markdown",
      "source": [
        "# **How many employees are there in each education field?**"
      ],
      "metadata": {
        "id": "3PvRTEb3ok5Y"
      }
    },
    {
      "cell_type": "code",
      "source": [
        "query_employee_count_by_education = \"\"\"\n",
        "SELECT EducationField, COUNT(*) AS EmployeeCount\n",
        "FROM HRData\n",
        "GROUP BY EducationField;\n",
        "\"\"\"\n",
        "# Execute the SQL query and fetch the result into a DataFrame\n",
        "df = pd.read_sql_query(query_employee_count_by_education, conn)\n",
        "\n",
        "# Display the results\n",
        "print(df)"
      ],
      "metadata": {
        "colab": {
          "base_uri": "https://localhost:8080/"
        },
        "id": "zqN2IRTUjT3v",
        "outputId": "d5140c3b-2205-4fda-b7e7-65e4768ecda9"
      },
      "execution_count": 26,
      "outputs": [
        {
          "output_type": "stream",
          "name": "stdout",
          "text": [
            "     EducationField  EmployeeCount\n",
            "0   Human Resources             27\n",
            "1     Life Sciences            606\n",
            "2         Marketing            159\n",
            "3           Medical            464\n",
            "4             Other             82\n",
            "5  Technical Degree            132\n"
          ]
        }
      ]
    },
    {
      "cell_type": "markdown",
      "source": [
        "The distribution of employees across different education fields shows that Life Sciences has the highest number of employees, with 606 individuals. Medical and Marketing fields follow with 464 and 159 employees, respectively. Human Resources and Technical Degree have fewer employees, at 27 and 132, while Other is the least represented with 82 employees."
      ],
      "metadata": {
        "id": "y74miaGsuvUH"
      }
    },
    {
      "cell_type": "markdown",
      "source": [
        "# **What is the average number of years that employees who left the company worked there?**"
      ],
      "metadata": {
        "id": "clNcNuSOouzm"
      }
    },
    {
      "cell_type": "code",
      "source": [
        "query_avg_years_attrited = \"\"\"\n",
        "SELECT AVG(YearsAtCompany) AS AverageYears\n",
        "FROM HRData\n",
        "WHERE Attrition = 'Yes';\n",
        "\"\"\"\n",
        "df = pd.read_sql_query(query_avg_years_attrited, conn)\n",
        "\n",
        "print(df)"
      ],
      "metadata": {
        "colab": {
          "base_uri": "https://localhost:8080/"
        },
        "id": "4rt1bCUIjs14",
        "outputId": "dede32c7-3f4c-41b9-c4e0-7e9534dd459c"
      },
      "execution_count": 27,
      "outputs": [
        {
          "output_type": "stream",
          "name": "stdout",
          "text": [
            "   AverageYears\n",
            "0      5.130802\n"
          ]
        }
      ]
    },
    {
      "cell_type": "markdown",
      "source": [
        "The average number of years that employees who have left the company worked there is approximately 5.13 years. This indicates that, on average, employees who left the company had been with the company for just over five years before their departure."
      ],
      "metadata": {
        "id": "oeQHg1s8u8kM"
      }
    },
    {
      "cell_type": "markdown",
      "source": [
        "# **What percentage of employees travel frequently for work?**\n"
      ],
      "metadata": {
        "id": "OGkh44_go2e6"
      }
    },
    {
      "cell_type": "code",
      "source": [
        "query_freq_travel_pct = \"\"\"\n",
        "SELECT (COUNT(*) * 100.0 / (SELECT COUNT(*) FROM HRData)) AS FrequentTravelPercentage\n",
        "FROM HRData\n",
        "WHERE BusinessTravel = 'Travel_Frequently';\n",
        "\"\"\"\n",
        "\n",
        "df = pd.read_sql_query(query_freq_travel_pct, conn)\n",
        "\n",
        "print(df)"
      ],
      "metadata": {
        "colab": {
          "base_uri": "https://localhost:8080/"
        },
        "id": "7YGcmoQjlRxp",
        "outputId": "387c4d9c-f5ac-4e09-e8a3-644e780e0583"
      },
      "execution_count": 28,
      "outputs": [
        {
          "output_type": "stream",
          "name": "stdout",
          "text": [
            "   FrequentTravelPercentage\n",
            "0                 18.843537\n"
          ]
        }
      ]
    },
    {
      "cell_type": "markdown",
      "source": [
        "Approximately 18.84% of employees travel frequently for work. This indicates that nearly one-fifth of the workforce is involved in frequent travel as part of their job responsibilities.\n",
        "\n",
        "\n",
        "\n",
        "\n",
        "\n",
        "\n",
        "\n"
      ],
      "metadata": {
        "id": "5n48ytndvHIX"
      }
    },
    {
      "cell_type": "markdown",
      "source": [
        "#  **What is the maximum number of years since the last promotion for each job level?**"
      ],
      "metadata": {
        "id": "tW5jL0R8o_ZS"
      }
    },
    {
      "cell_type": "code",
      "source": [
        "query_max_years_promotion = \"\"\"\n",
        "SELECT JobLevel, MAX(YearsSinceLastPromotion) AS MaxYears\n",
        "FROM HRData\n",
        "GROUP BY JobLevel;\n",
        "\"\"\"\n",
        "df = pd.read_sql_query(query_max_years_promotion, conn)\n",
        "\n",
        "print(df)"
      ],
      "metadata": {
        "colab": {
          "base_uri": "https://localhost:8080/"
        },
        "id": "d8hN7X3wlfYQ",
        "outputId": "41c0cfe4-0e2f-497b-8adb-7f6d89d1ef69"
      },
      "execution_count": 29,
      "outputs": [
        {
          "output_type": "stream",
          "name": "stdout",
          "text": [
            "   JobLevel  MaxYears\n",
            "0         1        15\n",
            "1         2        13\n",
            "2         3        15\n",
            "3         4        15\n",
            "4         5        15\n"
          ]
        }
      ]
    },
    {
      "cell_type": "markdown",
      "source": [
        "For all job levels, the maximum number of years since the last promotion is 15 years. This suggests that regardless of job level, some employees have not received a promotion for up to 15 years, which could highlight a potential area for career development and advancement opportunities within the company."
      ],
      "metadata": {
        "id": "-2c12u2OvSnm"
      }
    },
    {
      "cell_type": "markdown",
      "source": [
        "# **What is the average job satisfaction level in each department?**\n"
      ],
      "metadata": {
        "id": "E_SNWquVpNu7"
      }
    },
    {
      "cell_type": "code",
      "source": [
        "query_avg_job_satisfaction_dept = \"\"\"\n",
        "SELECT Department, AVG(JobSatisfaction) AS AverageJobSatisfaction\n",
        "FROM HRData\n",
        "GROUP BY Department;\n",
        "\"\"\"\n",
        "df = pd.read_sql_query(query_avg_job_satisfaction_dept, conn)\n",
        "\n",
        "print(df)"
      ],
      "metadata": {
        "colab": {
          "base_uri": "https://localhost:8080/"
        },
        "id": "nJvVxDcplsOz",
        "outputId": "2cddb13d-ea0a-46ef-dc6d-38a1233d1211"
      },
      "execution_count": 30,
      "outputs": [
        {
          "output_type": "stream",
          "name": "stdout",
          "text": [
            "               Department  AverageJobSatisfaction\n",
            "0         Human Resources                2.603175\n",
            "1  Research & Development                2.726327\n",
            "2                   Sales                2.751121\n"
          ]
        }
      ]
    },
    {
      "cell_type": "markdown",
      "source": [
        "The average job satisfaction levels vary slightly across departments, with the Sales department having the highest average satisfaction (2.75), followed by Research & Development (2.73), and Human Resources (2.60). This suggests that employees in Sales are generally more satisfied with their jobs compared to those in other departments, which could be a focal point for improving satisfaction in other areas."
      ],
      "metadata": {
        "id": "Vt1T6Q1QvwTw"
      }
    },
    {
      "cell_type": "markdown",
      "source": [
        "# **How does marital status affect employee attrition rates?**"
      ],
      "metadata": {
        "id": "n1rZBPUppoUI"
      }
    },
    {
      "cell_type": "code",
      "source": [
        "query_count_marital_status_attrition = \"\"\"\n",
        "SELECT MaritalStatus, Attrition, COUNT(*) AS EmployeeCount\n",
        "FROM HRData\n",
        "GROUP BY MaritalStatus, Attrition;\n",
        "\"\"\"\n",
        "df = pd.read_sql_query(query_count_marital_status_attrition, conn)\n",
        "\n",
        "print(df)"
      ],
      "metadata": {
        "colab": {
          "base_uri": "https://localhost:8080/"
        },
        "id": "Ie32Wz9Gl-rR",
        "outputId": "5d748fc6-c21f-4ae7-d27c-758ea8039e1f"
      },
      "execution_count": 31,
      "outputs": [
        {
          "output_type": "stream",
          "name": "stdout",
          "text": [
            "  MaritalStatus Attrition  EmployeeCount\n",
            "0      Divorced        No            294\n",
            "1      Divorced       Yes             33\n",
            "2       Married        No            589\n",
            "3       Married       Yes             84\n",
            "4        Single        No            350\n",
            "5        Single       Yes            120\n"
          ]
        }
      ]
    },
    {
      "cell_type": "markdown",
      "source": [
        "The data shows that marital status does influence employee attrition rates:\n",
        "\n",
        "\n",
        "\n",
        "*   Divorced: 33 out of 327 (10.1%) employees left the company.\n",
        "*   Married: 84 out of 673 (12.5%) employees left the company.\n",
        "\n",
        "*   Single: 120 out of 470 (25.5%) employees left the company.\n",
        "\n",
        "\n",
        "\n",
        "\n",
        "\n",
        "Single employees have the highest attrition rate, with about 25.5% leaving the company, compared to 12.5% for married employees and 10.1% for divorced employees. This indicates that single employees are more likely to leave the company than their married or divorced counterparts."
      ],
      "metadata": {
        "id": "7TEblQTBv785"
      }
    },
    {
      "cell_type": "markdown",
      "source": [
        "#  **What is the average distance from home for employees who have left the company?**\n"
      ],
      "metadata": {
        "id": "I0OMhgeEpuxB"
      }
    },
    {
      "cell_type": "code",
      "source": [
        "query_avg_distance_attrited = \"\"\"\n",
        "SELECT AVG(DistanceFromHome) AS AverageDistance\n",
        "FROM HRData\n",
        "WHERE Attrition = 'Yes';\n",
        "\"\"\"\n",
        "df = pd.read_sql_query(query_avg_distance_attrited, conn)\n",
        "\n",
        "print(df)"
      ],
      "metadata": {
        "colab": {
          "base_uri": "https://localhost:8080/"
        },
        "id": "UVMzQb6WmNuu",
        "outputId": "27f94664-c629-4598-86a9-452d6f043d3d"
      },
      "execution_count": 32,
      "outputs": [
        {
          "output_type": "stream",
          "name": "stdout",
          "text": [
            "   AverageDistance\n",
            "0        10.632911\n"
          ]
        }
      ]
    },
    {
      "cell_type": "markdown",
      "source": [
        "The average distance from home for employees who have left the company is approximately 10.63 miles. This suggests that employees who leave the company tend to live around this average distance from their workplace."
      ],
      "metadata": {
        "id": "iXpEEmQawaQc"
      }
    },
    {
      "cell_type": "markdown",
      "source": [
        "#  **What is the distribution of employees across different job levels?**\n"
      ],
      "metadata": {
        "id": "8Vba1jnpqiz2"
      }
    },
    {
      "cell_type": "code",
      "source": [
        "query_job_level_distribution = \"\"\"\n",
        "SELECT JobLevel, COUNT(*) AS EmployeeCount\n",
        "FROM HRData\n",
        "GROUP BY JobLevel\n",
        "ORDER BY JobLevel;\n",
        "\"\"\"\n",
        "df = pd.read_sql_query(query_job_level_distribution, conn)\n",
        "\n",
        "print(df)"
      ],
      "metadata": {
        "colab": {
          "base_uri": "https://localhost:8080/"
        },
        "id": "r63ju6VVmY4t",
        "outputId": "8be011a9-4467-4ac2-a8ac-f4682df00cdd"
      },
      "execution_count": 33,
      "outputs": [
        {
          "output_type": "stream",
          "name": "stdout",
          "text": [
            "   JobLevel  EmployeeCount\n",
            "0         1            543\n",
            "1         2            534\n",
            "2         3            218\n",
            "3         4            106\n",
            "4         5             69\n"
          ]
        }
      ]
    },
    {
      "cell_type": "markdown",
      "source": [
        "This distribution shows that the majority of employees are in the lower job levels, with fewer employees at higher levels."
      ],
      "metadata": {
        "id": "CGpkpowMwoAg"
      }
    },
    {
      "cell_type": "markdown",
      "source": [
        "#  **How do performance ratings vary across different job roles?**\n"
      ],
      "metadata": {
        "id": "MXDHHZohqqj7"
      }
    },
    {
      "cell_type": "code",
      "source": [
        "query_avg_performance_by_role = \"\"\"\n",
        "SELECT JobRole, AVG(PerformanceRating) AS AveragePerformanceRating\n",
        "FROM HRData\n",
        "GROUP BY JobRole;\n",
        "\"\"\"\n",
        "df = pd.read_sql_query(query_avg_performance_by_role, conn)\n",
        "\n",
        "print(df)"
      ],
      "metadata": {
        "colab": {
          "base_uri": "https://localhost:8080/"
        },
        "id": "Uv6sNzWbmjle",
        "outputId": "57b38598-04bd-4821-d8c7-d71040e26004"
      },
      "execution_count": 34,
      "outputs": [
        {
          "output_type": "stream",
          "name": "stdout",
          "text": [
            "                     JobRole  AveragePerformanceRating\n",
            "0  Healthcare Representative                  3.152672\n",
            "1            Human Resources                  3.134615\n",
            "2      Laboratory Technician                  3.162162\n",
            "3                    Manager                  3.196078\n",
            "4     Manufacturing Director                  3.186207\n",
            "5          Research Director                  3.100000\n",
            "6         Research Scientist                  3.167808\n",
            "7            Sales Executive                  3.125767\n",
            "8       Sales Representative                  3.144578\n"
          ]
        }
      ]
    },
    {
      "cell_type": "markdown",
      "source": [
        "Overall, Managers and Manufacturing Directors have the highest average performance ratings, while Research Directors have the lowest. Most roles show similar performance ratings, with slight variations."
      ],
      "metadata": {
        "id": "JfXs5Nliw15t"
      }
    },
    {
      "cell_type": "markdown",
      "source": [
        "# **How many employees have stock options, and what are the levels of those options?**"
      ],
      "metadata": {
        "id": "4kXriQaIqvyE"
      }
    },
    {
      "cell_type": "code",
      "source": [
        "query_stock_options_count = \"\"\"\n",
        "SELECT StockOptionLevel, COUNT(*) AS EmployeeCount\n",
        "FROM HRData\n",
        "GROUP BY StockOptionLevel;\n",
        "\"\"\"\n",
        "df = pd.read_sql_query(query_stock_options_count, conn)\n",
        "\n",
        "print(df)"
      ],
      "metadata": {
        "colab": {
          "base_uri": "https://localhost:8080/"
        },
        "id": "-gX4vqsamwCe",
        "outputId": "82844f75-0b0c-4c27-f412-79aaedfa54a1"
      },
      "execution_count": 35,
      "outputs": [
        {
          "output_type": "stream",
          "name": "stdout",
          "text": [
            "   StockOptionLevel  EmployeeCount\n",
            "0                 0            631\n",
            "1                 1            596\n",
            "2                 2            158\n",
            "3                 3             85\n"
          ]
        }
      ]
    },
    {
      "cell_type": "markdown",
      "source": [
        "The majority of employees either have no stock options or are at Level 1. Fewer employees have higher levels of stock options."
      ],
      "metadata": {
        "id": "xHajZQ0pxBfX"
      }
    },
    {
      "cell_type": "markdown",
      "source": [
        "# **How does job involvement relate to job satisfaction levels?**"
      ],
      "metadata": {
        "id": "LdrIheCQq3vy"
      }
    },
    {
      "cell_type": "code",
      "source": [
        "query_job_involvement_satisfaction = \"\"\"\n",
        "SELECT JobInvolvement, AVG(JobSatisfaction) AS AverageJobSatisfaction\n",
        "FROM HRData\n",
        "GROUP BY JobInvolvement;\n",
        "\"\"\"\n",
        "df = pd.read_sql_query(query_job_involvement_satisfaction, conn)\n",
        "\n",
        "print(df)"
      ],
      "metadata": {
        "colab": {
          "base_uri": "https://localhost:8080/"
        },
        "id": "KYQPkEHjm52v",
        "outputId": "9be0da9e-fbbd-49bd-85ba-178b5ef5733b"
      },
      "execution_count": 36,
      "outputs": [
        {
          "output_type": "stream",
          "name": "stdout",
          "text": [
            "   JobInvolvement  AverageJobSatisfaction\n",
            "0               1                2.915663\n",
            "1               2                2.680000\n",
            "2               3                2.745392\n",
            "3               4                2.645833\n"
          ]
        }
      ]
    },
    {
      "cell_type": "markdown",
      "source": [
        "The relationship between job involvement and job satisfaction shows that employees with higher job involvement tend to have lower average job satisfaction:This indicates a trend where employees with higher job involvement experience slightly lower job satisfaction."
      ],
      "metadata": {
        "id": "pdm5NYIkxRmJ"
      }
    },
    {
      "cell_type": "markdown",
      "source": [
        "# **What is the turnover rate for employees based on their business travel frequency?**\n"
      ],
      "metadata": {
        "id": "PEi5_vsMrBrV"
      }
    },
    {
      "cell_type": "code",
      "source": [
        "query_turnover_by_travel = \"\"\"\n",
        "SELECT BusinessTravel, (SUM(CASE WHEN Attrition = 'Yes' THEN 1 ELSE 0 END) * 100.0 / COUNT(*)) AS TurnoverRate\n",
        "FROM HRData\n",
        "GROUP BY BusinessTravel;\n",
        "\"\"\"\n",
        "df = pd.read_sql_query(query_turnover_by_travel, conn)\n",
        "\n",
        "print(df)"
      ],
      "metadata": {
        "colab": {
          "base_uri": "https://localhost:8080/"
        },
        "id": "eWzQE-tznB3O",
        "outputId": "cf96bfc5-d58c-4bdd-b0ca-71830816a67e"
      },
      "execution_count": 37,
      "outputs": [
        {
          "output_type": "stream",
          "name": "stdout",
          "text": [
            "      BusinessTravel  TurnoverRate\n",
            "0         Non-Travel      8.000000\n",
            "1  Travel_Frequently     24.909747\n",
            "2      Travel_Rarely     14.956855\n"
          ]
        }
      ]
    },
    {
      "cell_type": "markdown",
      "source": [
        "The turnover rate varies significantly based on business travel frequency:\n",
        "\n",
        "\n",
        "\n",
        "*   Non-Travel: Turnover Rate = 8.00%\n",
        "*   Travel Frequently: Turnover Rate = 24.91%\n",
        "*   Travel Rarely: Turnover Rate = 14.96%\n",
        "\n",
        "\n",
        "Employees who travel frequently for business have the highest turnover rate, suggesting that frequent travel may contribute to higher attrition."
      ],
      "metadata": {
        "id": "XGr9hKlsxrx4"
      }
    },
    {
      "cell_type": "markdown",
      "source": [
        "# **How many training sessions did employees receive last year on average, broken down by job role?**\n"
      ],
      "metadata": {
        "id": "sQVWbmvHrE4v"
      }
    },
    {
      "cell_type": "code",
      "source": [
        "query_avg_training_by_role = \"\"\"\n",
        "SELECT JobRole, AVG(TrainingTimesLastYear) AS AverageTraining\n",
        "FROM HRData\n",
        "GROUP BY JobRole;\n",
        "\"\"\"\n",
        "df = pd.read_sql_query(query_avg_training_by_role, conn)\n",
        "\n",
        "print(df)"
      ],
      "metadata": {
        "colab": {
          "base_uri": "https://localhost:8080/"
        },
        "id": "T4e8cbAKnL3D",
        "outputId": "de6811af-0b1c-48c6-e0ad-da746a79b9dc"
      },
      "execution_count": 38,
      "outputs": [
        {
          "output_type": "stream",
          "name": "stdout",
          "text": [
            "                     JobRole  AverageTraining\n",
            "0  Healthcare Representative         2.748092\n",
            "1            Human Resources         2.557692\n",
            "2      Laboratory Technician         2.949807\n",
            "3                    Manager         2.813725\n",
            "4     Manufacturing Director         2.744828\n",
            "5          Research Director         2.775000\n",
            "6         Research Scientist         2.664384\n",
            "7            Sales Executive         2.831288\n",
            "8       Sales Representative         3.012048\n"
          ]
        }
      ]
    },
    {
      "cell_type": "markdown",
      "source": [
        "The average number of training sessions received last year varies by job role:\n",
        "\n",
        "Sales Representatives received the highest average number of training sessions, while Research Scientists received the fewest."
      ],
      "metadata": {
        "id": "O70rO1c-yYMZ"
      }
    },
    {
      "cell_type": "markdown",
      "source": [
        "# **How does the number of years an employee has been with their current manager relate to attrition?**"
      ],
      "metadata": {
        "id": "Py4j9iIarLj9"
      }
    },
    {
      "cell_type": "code",
      "source": [
        "query_years_with_manager_attrition = \"\"\"\n",
        "SELECT YearsWithCurrManager, COUNT(*) AS EmployeeCount\n",
        "FROM HRData\n",
        "WHERE Attrition = 'Yes'\n",
        "GROUP BY YearsWithCurrManager;\n",
        "\"\"\"\n",
        "df = pd.read_sql_query(query_years_with_manager_attrition, conn)\n",
        "\n",
        "print(df)"
      ],
      "metadata": {
        "colab": {
          "base_uri": "https://localhost:8080/"
        },
        "id": "vao1BiNknOOI",
        "outputId": "a238d5af-feb7-4a04-e73c-90c69cf61c8f"
      },
      "execution_count": 39,
      "outputs": [
        {
          "output_type": "stream",
          "name": "stdout",
          "text": [
            "    YearsWithCurrManager  EmployeeCount\n",
            "0                      0             85\n",
            "1                      1             11\n",
            "2                      2             50\n",
            "3                      3             19\n",
            "4                      4             11\n",
            "5                      5              4\n",
            "6                      6              4\n",
            "7                      7             31\n",
            "8                      8             10\n",
            "9                      9              6\n",
            "10                    10              3\n",
            "11                    11              1\n",
            "12                    14              2\n"
          ]
        }
      ]
    },
    {
      "cell_type": "markdown",
      "source": [
        "The number of years an employee has been with their current manager has a noticeable effect on attrition:\n",
        "\n",
        "\n",
        "\n",
        "*   Employees with fewer years (0-1) with their current manager have a higher count of attrition cases.\n",
        "\n",
        "*   Attrition decreases as the number of years with the current manager increases, with fewer employees leaving after more extended periods (10+ years).\n",
        "\n",
        "\n",
        "This suggests that shorter tenures with a manager are associated with higher attrition rates."
      ],
      "metadata": {
        "id": "7NTSD0Gkysp2"
      }
    }
  ]
}